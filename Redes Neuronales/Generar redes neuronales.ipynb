{
 "cells": [
  {
   "cell_type": "code",
   "execution_count": null,
   "metadata": {},
   "outputs": [],
   "source": [
    "#Librerias y parametros de redes neuronales\n",
    "from tensorflow.python.keras.layers import Conv2D, MaxPooling2D, Flatten, Dense, Dropout\n",
    "from keras_preprocessing.image import ImageDataGenerator\n",
    "from tensorflow.python.keras.models import Sequential\n",
    "from tensorflow.python.keras import backend as ff\n",
    "\n",
    "#Librerias de matriz de confusion\n",
    "from keras.preprocessing.image import ImageDataGenerator\n",
    "from mlxtend.plotting import plot_confusion_matrix\n",
    "from sklearn.metrics import confusion_matrix\n",
    "from keras.models import load_model\n",
    "import matplotlib.pyplot as plt\n",
    "from sklearn import metrics\n",
    "import numpy as np\n",
    "\n",
    "#Librerias principales\n",
    "import tensorflowjs\n",
    "import os\n",
    "\n",
    "ff.clear_session() "
   ]
  },
  {
   "cell_type": "code",
   "execution_count": null,
   "metadata": {},
   "outputs": [],
   "source": [
    "#Parametros basicos\n",
    "shape       = (256, 256, 3)\n",
    "pasos_train = 120          \n",
    "dim         = (256, 256)\n",
    "batch_size  = 32              #32\n",
    "pasos       = 400             #400\n",
    "epocas      = 30              #30    \n",
    "dataset1    = \"./train/\"\n",
    "dataset2    = \"./test/\"\n",
    "destino     = \"./ultimo v3/\""
   ]
  },
  {
   "cell_type": "code",
   "execution_count": null,
   "metadata": {},
   "outputs": [],
   "source": [
    "#Generar datasets\n",
    "\n",
    "gen  = ImageDataGenerator(\n",
    "    rescale=1. /255,                \n",
    "    horizontal_flip=True,           \n",
    "    vertical_flip=True,              \n",
    "    zoom_range=[1, 1.5],            \n",
    "    brightness_range=(0.1, 0.9))     \n",
    "\n",
    "gen2  = ImageDataGenerator(rescale=1. /255)\n",
    "gen3  = ImageDataGenerator(rescale=1./ 255)\n",
    "\n",
    "train_ds = gen.flow_from_directory(\n",
    "    directory=dataset1, \n",
    "    target_size=dim,\n",
    "    batch_size=batch_size,\n",
    "    class_mode='categorical',\n",
    "    shuffle=True)\n",
    "\n",
    "test_ds = gen2.flow_from_directory(\n",
    "    directory=dataset2,\n",
    "    target_size=dim,\n",
    "    batch_size=batch_size,\n",
    "    class_mode='categorical',\n",
    "    shuffle=True)                 \n",
    "\n",
    "matriz_ds = gen3.flow_from_directory(\n",
    "    directory=\"./matriz dataset/\",\n",
    "    target_size=dim, \n",
    "    batch_size=batch_size,\n",
    "    class_mode='categorical',\n",
    "    shuffle=True)    \n",
    "\n",
    "num_clases = train_ds.num_classes\n",
    "print(train_ds.class_indices)"
   ]
  },
  {
   "cell_type": "code",
   "execution_count": null,
   "metadata": {},
   "outputs": [],
   "source": [
    "#Tipo de red neuronal convolucional, convoliciones y pooling\n",
    "dcnn = Sequential()\n",
    "dcnn.add(Conv2D(input_shape = shape, filters=64, kernel_size=(3,3), activation='relu', padding=\"same\"))\n",
    "dcnn.add(MaxPooling2D(pool_size=(2,2)))\n",
    "dcnn.add(Conv2D(filters=32, kernel_size=(3,3), activation='relu', padding=\"same\"))\n",
    "dcnn.add(MaxPooling2D(pool_size=(2,2)))\n",
    "dcnn.add(Conv2D(filters=16, kernel_size=(3,3), activation='relu', padding=\"same\"))\n",
    "dcnn.add(MaxPooling2D(pool_size=(2,2)))\n",
    "\n",
    "#Arquitectura de redes\n",
    "dcnn.add(Flatten()) \n",
    "dcnn.add(Dense(256, activation='relu')) \n",
    "dcnn.add(Dropout(0.5))\n",
    "dcnn.add(Dense(128, activation=\"relu\"))  \n",
    "dcnn.add(Dropout(0.5))                                 \n",
    "dcnn.add(Dense(3, activation='softmax')) \n",
    "print(dcnn.summary())\n",
    "dcnn.compile(loss='categorical_crossentropy', optimizer='adam', metrics=['categorical_accuracy'])"
   ]
  },
  {
   "cell_type": "code",
   "execution_count": null,
   "metadata": {},
   "outputs": [],
   "source": [
    "#Entrenamiento de CNN\n",
    "red_neuronal = dcnn.fit(train_ds, epochs=epocas, steps_per_epoch=pasos,\n",
    "    validation_data=test_ds, validation_steps=pasos_train, verbose=1, workers=6)"
   ]
  },
  {
   "cell_type": "code",
   "execution_count": null,
   "metadata": {},
   "outputs": [],
   "source": [
    "#Guardado en H5\n",
    "#Nota: Tratar de automatizar mas eso de las carpetas, y solo cambiar 1 direccion\n",
    "if not os.path.exists(destino):\n",
    "    os.mkdir(destino)\n",
    "\n",
    "modelo_dir = destino + 'Modelo.h5'\n",
    "pesos_dir  = destino + 'Pesos neuronales.h5'\n",
    "dcnn.save(modelo_dir)\n",
    "dcnn.save_weights(pesos_dir)\n",
    "\n",
    "#Guardado de JS\n",
    "carpeta2 = destino + 'modelo java/'\n",
    "if not os.path.exists(carpeta2):\n",
    "    os.mkdir(carpeta2)\n",
    "    \n",
    "tensorflowjs.converters.save_keras_model(dcnn, carpeta2)\n",
    "print(\"modelos guardado con exito\")"
   ]
  },
  {
   "cell_type": "code",
   "execution_count": null,
   "metadata": {},
   "outputs": [],
   "source": [
    "#Funcion perdida y precision por epoca\n",
    "import matplotlib.pyplot as plt\n",
    "plt.xlabel(\"Epoca\")\n",
    "plt.ylabel(\"Loss / Accuracy\")\n",
    "plt.plot(red_neuronal.history[\"loss\"])\n",
    "plt.plot(red_neuronal.history[\"categorical_accuracy\"])\n",
    "plt.savefig(destino + \"Funcion de perdida y precision por epocas.jpg\")"
   ]
  },
  {
   "cell_type": "code",
   "execution_count": null,
   "metadata": {},
   "outputs": [],
   "source": [
    "#Matriz de confusion real 1: Cargar datos, y modelo\n",
    "#Recordar usar el dataset de test\n",
    "\n",
    "#Nombres de las categorias\n",
    "etiquetas    = [\"Excelente\", \"Bajo-Medio\", \"Alto-Grave\"]\n",
    "\n",
    "#Cargar modelo y cargar dataset test\n",
    "modelo       = load_model(modelo_dir) #Aqui ir cambiando de modleo\n",
    "predicciones = modelo.predict_generator(generator=test_ds)\n",
    "\n",
    "#Ejes \n",
    "y_prediccion = np.argmax(predicciones, axis=1)\n",
    "y_real       = test_ds.classes"
   ]
  },
  {
   "cell_type": "code",
   "execution_count": null,
   "metadata": {},
   "outputs": [],
   "source": [
    "#Generar matriz de confusion\n",
    "matriz = confusion_matrix(y_real, y_prediccion)\n",
    "plot_confusion_matrix(conf_mat=matriz, figsize=(4,4), class_names=etiquetas, show_normed=False)\n",
    "plt.tight_layout()\n",
    "plt.savefig(destino + \"matriz.jpg\")"
   ]
  },
  {
   "cell_type": "code",
   "execution_count": null,
   "metadata": {},
   "outputs": [],
   "source": [
    "#Matriz de confusion 2: Medida de precision\n",
    "#Sacar foto\n",
    "print(metrics.classification_report(y_real, y_prediccion, digits=4))"
   ]
  },
  {
   "cell_type": "code",
   "execution_count": null,
   "metadata": {},
   "outputs": [],
   "source": [
    "#Matriz 2: Con el mismos datos del dataset \n",
    "predicciones2 = modelo.predict_generator(generator=matriz_ds)\n",
    "\n",
    "#Generar matriz de confusion\n",
    "y_real2 = matriz_ds.classes\n",
    "y_prediccion2 = np.argmax(predicciones2, axis=1)\n",
    "\n",
    "matriz2 = confusion_matrix(y_real2, y_prediccion2)\n",
    "plot_confusion_matrix(conf_mat=matriz2, figsize=(4,4), class_names=etiquetas, show_normed=False)\n",
    "plt.tight_layout()\n",
    "plt.savefig(destino + \"matriz2.jpg\")"
   ]
  },
  {
   "cell_type": "code",
   "execution_count": null,
   "metadata": {},
   "outputs": [],
   "source": [
    "print(metrics.classification_report(y_real2, y_prediccion2, digits=4))"
   ]
  }
 ],
 "metadata": {
  "kernelspec": {
   "display_name": "Python 3.10.4 64-bit",
   "language": "python",
   "name": "python3"
  },
  "language_info": {
   "codemirror_mode": {
    "name": "ipython",
    "version": 3
   },
   "file_extension": ".py",
   "mimetype": "text/x-python",
   "name": "python",
   "nbconvert_exporter": "python",
   "pygments_lexer": "ipython3",
   "version": "3.10.4"
  },
  "orig_nbformat": 4,
  "vscode": {
   "interpreter": {
    "hash": "9ad0b03bdd08dbd25e342985ef4c2cbe8d75c3d3f0dee64f154c23d88a96295b"
   }
  }
 },
 "nbformat": 4,
 "nbformat_minor": 2
}
